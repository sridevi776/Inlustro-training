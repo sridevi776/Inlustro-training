{
 "cells": [
  {
   "cell_type": "code",
   "execution_count": 17,
   "id": "38169322",
   "metadata": {},
   "outputs": [
    {
     "name": "stdout",
     "output_type": "stream",
     "text": [
      "Accuracy: 0.97\n",
      "              precision    recall  f1-score   support\n",
      "\n",
      "         ham       0.96      1.00      0.98       965\n",
      "        spam       1.00      0.75      0.86       150\n",
      "\n",
      "    accuracy                           0.97      1115\n",
      "   macro avg       0.98      0.88      0.92      1115\n",
      "weighted avg       0.97      0.97      0.96      1115\n",
      "\n",
      "\n",
      "Predictions on new emails:\n",
      "Email:  I have a 50% discount for 100 books\n",
      "Prediction: spam\n",
      "\n"
     ]
    }
   ],
   "source": [
    "import pandas as pd\n",
    "from sklearn.model_selection import train_test_split\n",
    "from sklearn.feature_extraction.text import TfidfVectorizer\n",
    "from sklearn.naive_bayes import MultinomialNB\n",
    "from sklearn.metrics import accuracy_score, classification_report\n",
    "df = pd.read_csv('spam.csv')\n",
    "x = df['text']\n",
    "y = df['label']\n",
    "x_train, x_test, y_train, y_test = train_test_split(x, y, test_size=0.2, random_state=42)\n",
    "vectorizer = TfidfVectorizer(stop_words='english')\n",
    "x_train_tfidf = vectorizer.fit_transform(x_train)\n",
    "x_test_tfidf = vectorizer.transform(x_test)\n",
    "nb_classifier = MultinomialNB()\n",
    "nb_classifier.fit(x_train_tfidf, y_train)\n",
    "y_pred = nb_classifier.predict(x_test_tfidf)\n",
    "print(f\"Accuracy: {accuracy_score(y_test, y_pred):.2f}\")\n",
    "print(classification_report(y_test, y_pred))\n",
    "new_email = [\n",
    "    \" I have a 50% discount for 100 books\"\n",
    "]\n",
    "new_email_tfidf = vectorizer.transform(new_email)\n",
    "predictions = nb_classifier.predict(new_email_tfidf)\n",
    "print(\"\\nPredictions on new emails:\")\n",
    "for email, label in zip(new_email, predictions):\n",
    "    print(f\"Email: {email}\\nPrediction: {label}\\n\")\n",
    "      "
   ]
  }
 ],
 "metadata": {
  "kernelspec": {
   "display_name": "Python 3 (ipykernel)",
   "language": "python",
   "name": "python3"
  },
  "language_info": {
   "codemirror_mode": {
    "name": "ipython",
    "version": 3
   },
   "file_extension": ".py",
   "mimetype": "text/x-python",
   "name": "python",
   "nbconvert_exporter": "python",
   "pygments_lexer": "ipython3",
   "version": "3.9.7"
  }
 },
 "nbformat": 4,
 "nbformat_minor": 5
}
